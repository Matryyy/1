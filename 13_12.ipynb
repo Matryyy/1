{
 "cells": [
  {
   "cell_type": "code",
   "execution_count": 10,
   "metadata": {},
   "outputs": [
    {
     "name": "stdout",
     "output_type": "stream",
     "text": [
      "Senzor sepnutý - dioda svítí\n",
      "Program ukončen.\n"
     ]
    }
   ],
   "source": [
    "import RPi.GPIO as GPIO\n",
    "import time\n",
    "import serial\n",
    "\n",
    "# Nastavení GPIO režimu\n",
    "GPIO.setmode(GPIO.BCM)\n",
    "\n",
    "# Definice pinů pro senzor, diodu a sériovou komunikaci s Arduinem\n",
    "senzor_pin = 21\n",
    "dioda_pin = 12\n",
    "tlacitko_pin = 18  # Připojte tlačítko na pin 18\n",
    "ser = serial.Serial('/dev/ttyACM0', 9600, timeout=1)  # '/dev/ttyACM0' může být jiný, závisí na připojení Arduina\n",
    "\n",
    "# Nastavení pinů\n",
    "GPIO.setup(senzor_pin, GPIO.IN)\n",
    "GPIO.setup(dioda_pin, GPIO.OUT)\n",
    "GPIO.setup(tlacitko_pin, GPIO.IN, pull_up_down=GPIO.PUD_UP)\n",
    "\n",
    "try:\n",
    "    dioda_zapnuta = False\n",
    "\n",
    "    while True:\n",
    "        # Čtení stavu magnetického senzoru\n",
    "        stav_senzoru = GPIO.input(senzor_pin)\n",
    "\n",
    "        # Čtení stavu tlačítka\n",
    "        tlacitko_stisknuto = not GPIO.input(tlacitko_pin)\n",
    "\n",
    "        # Zapnutí diody, pouze pokud je senzor sepnutý a tlačítko není stisknuto\n",
    "        if stav_senzoru == GPIO.HIGH and not dioda_zapnuta and not tlacitko_stisknuto:\n",
    "            GPIO.output(dioda_pin, GPIO.HIGH)\n",
    "            dioda_zapnuta = True\n",
    "            print(\"Senzor sepnutý - dioda svítí\")\n",
    "\n",
    "        # Vypnutí diody, pouze pokud tlačítko na Arduinu je stisknuto\n",
    "        if dioda_zapnuta and tlacitko_stisknuto:\n",
    "            GPIO.output(dioda_pin, GPIO.LOW)\n",
    "            dioda_zapnuta = False\n",
    "            print(\"Dioda vypnutá po stisknutí tlačítka na Arduinu\")\n",
    "\n",
    "        # Kontrola připojení senzoru jednou za dvě sekundy\n",
    "        time.sleep(2)\n",
    "\n",
    "        # Posílání informace o stisknutí tlačítka Raspberry Pi\n",
    "        ser.write(str(int(tlacitko_stisknuto)).encode())\n",
    "        time.sleep(0.1)\n",
    "\n",
    "except KeyboardInterrupt:\n",
    "    # Uzavření GPIO při přerušení\n",
    "    GPIO.cleanup()\n",
    "    ser.close()\n",
    "    print(\"Program ukončen.\")\n"
   ]
  }
 ],
 "metadata": {
  "kernelspec": {
   "display_name": "Python 3",
   "language": "python",
   "name": "python3"
  },
  "language_info": {
   "codemirror_mode": {
    "name": "ipython",
    "version": 3
   },
   "file_extension": ".py",
   "mimetype": "text/x-python",
   "name": "python",
   "nbconvert_exporter": "python",
   "pygments_lexer": "ipython3",
   "version": "3.7.3"
  }
 },
 "nbformat": 4,
 "nbformat_minor": 2
}
